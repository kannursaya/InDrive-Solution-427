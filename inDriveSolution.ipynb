{
  "nbformat": 4,
  "nbformat_minor": 0,
  "metadata": {
    "colab": {
      "provenance": [],
      "authorship_tag": "ABX9TyO3HKz3kPRbQ+zQIWSE8Buj",
      "include_colab_link": true
    },
    "kernelspec": {
      "name": "python3",
      "display_name": "Python 3"
    },
    "language_info": {
      "name": "python"
    }
  },
  "cells": [
    {
      "cell_type": "markdown",
      "metadata": {
        "id": "view-in-github",
        "colab_type": "text"
      },
      "source": [
        "<a href=\"https://colab.research.google.com/github/kannursaya/InDrive-Solution-427/blob/main/inDriveSolution.ipynb\" target=\"_parent\"><img src=\"https://colab.research.google.com/assets/colab-badge.svg\" alt=\"Open In Colab\"/></a>"
      ]
    },
    {
      "cell_type": "code",
      "execution_count": 1,
      "metadata": {
        "colab": {
          "base_uri": "https://localhost:8080/"
        },
        "id": "Z6FTyttOLb8f",
        "outputId": "c02391e7-d8f2-4b83-b6c3-caf1f5361dbb"
      },
      "outputs": [
        {
          "output_type": "stream",
          "name": "stdout",
          "text": [
            "Готово! Смотри файл features.csv\n",
            "         randomized_id  route_length_km  est_time_min  straightness  \\\n",
            "0 -9221304899272910788       130.020760  1.060273e+33      0.010801   \n",
            "1 -9217374206810770265        34.348877  1.920175e+05      0.022697   \n",
            "2 -9214548556609186054         6.712410  2.777573e+01      0.006429   \n",
            "3 -9214033164510198912        52.108579  8.027304e+28      0.009300   \n",
            "4 -9212938812549517684       211.223326  2.017683e+46      0.004350   \n",
            "5 -9210829366468064350       212.892866  3.841932e+17      0.001167   \n",
            "6 -9207744341078435299         0.194223  9.035472e+12      0.034492   \n",
            "7 -9207138669317269052         0.161626  1.661402e-01      0.999806   \n",
            "8 -9205038526221579984        87.413883  1.653342e+02      0.006768   \n",
            "9 -9204778906542759741        37.218923  2.039709e+04      0.001057   \n",
            "\n",
            "   mean_speed  stop_ratio    density  \n",
            "0    9.075419    0.172249   1.607436  \n",
            "1   11.048863    0.094340   1.542991  \n",
            "2    9.647319    0.100000   4.469334  \n",
            "3    9.802972    0.148936   1.803926  \n",
            "4    7.376861    0.236934   1.358751  \n",
            "5    4.091329    0.549153   1.385673  \n",
            "6    2.807051    0.461538  66.933349  \n",
            "7   16.044070    0.000000  24.748421  \n",
            "8   10.787101    0.000000   1.555817  \n",
            "9    9.756520    0.029126   2.767409  \n"
          ]
        }
      ],
      "source": [
        "import pandas as pd\n",
        "import numpy as np\n",
        "from math import radians, sin, cos, sqrt, atan2\n",
        "\n",
        "# ---------------------------\n",
        "# Haversine distance (в км)\n",
        "# ---------------------------\n",
        "def haversine(lat1, lon1, lat2, lon2):\n",
        "    R = 6371  # радиус Земли в км\n",
        "    phi1, phi2 = radians(lat1), radians(lat2)\n",
        "    dphi = radians(lat2 - lat1)\n",
        "    dlambda = radians(lon2 - lon1)\n",
        "\n",
        "    a = sin(dphi/2)**2 + cos(phi1) * cos(phi2) * sin(dlambda/2)**2\n",
        "    return 2 * R * atan2(sqrt(a), sqrt(1 - a))\n",
        "\n",
        "# ---------------------------\n",
        "# Вычисление признаков для маршрута\n",
        "# ---------------------------\n",
        "def extract_features(df):\n",
        "    route_length = 0\n",
        "    est_time = 0\n",
        "    stops = 0\n",
        "\n",
        "    # считаем длину и время по сегментам\n",
        "    for i in range(1, len(df)):\n",
        "        d = haversine(df.iloc[i-1].lat, df.iloc[i-1].lng,\n",
        "                      df.iloc[i].lat, df.iloc[i].lng)\n",
        "        route_length += d\n",
        "\n",
        "        spd = df.iloc[i].spd if df.iloc[i].spd > 0 else 1e-3\n",
        "        est_time += (d * 1000) / spd   # переводим км в метры\n",
        "\n",
        "        if df.iloc[i].spd < 1:  # точка почти стоит\n",
        "            stops += 1\n",
        "\n",
        "    # извилистость (прямота)\n",
        "    if len(df) > 1:\n",
        "        direct = haversine(df.iloc[0].lat, df.iloc[0].lng,\n",
        "                           df.iloc[-1].lat, df.iloc[-1].lng)\n",
        "        straightness = direct / route_length if route_length > 0 else 0\n",
        "    else:\n",
        "        straightness = 0\n",
        "\n",
        "    features = {\n",
        "        \"randomized_id\": df.randomized_id.iloc[0],\n",
        "        \"route_length_km\": route_length,\n",
        "        \"est_time_min\": est_time / 60,\n",
        "        \"straightness\": straightness,\n",
        "        \"mean_speed\": df.spd.mean(),\n",
        "        \"stop_ratio\": stops / len(df),\n",
        "        \"density\": len(df) / route_length if route_length > 0 else 0\n",
        "    }\n",
        "    return features\n",
        "\n",
        "\n",
        "data = pd.read_csv(\"/content/geo_locations_astana_hackathon\")\n",
        "\n",
        "# группируем по поездкам\n",
        "features = []\n",
        "for rid, group in data.groupby(\"randomized_id\"):\n",
        "    group = group.sort_index()  # если есть порядок точек\n",
        "    feats = extract_features(group)\n",
        "    features.append(feats)\n",
        "\n",
        "features_df = pd.DataFrame(features)\n",
        "features_df.to_csv(\"features.csv\", index=False)\n",
        "\n",
        "print(\"Готово! Смотри файл features.csv\")\n",
        "print(features_df.head(10))\n"
      ]
    },
    {
      "cell_type": "markdown",
      "source": [
        "# **Normalising calculated in previous cell data**\n",
        "So genetic algorithm will process necessary numbers\n"
      ],
      "metadata": {
        "id": "C8Xxm-8vXUu2"
      }
    },
    {
      "cell_type": "code",
      "source": [
        "import os\n",
        "import numpy as np\n",
        "import pandas as pd\n",
        "from sklearn.preprocessing import MinMaxScaler, RobustScaler, StandardScaler, FunctionTransformer\n",
        "from sklearn.pipeline import Pipeline\n",
        "from joblib import dump, load\n",
        "\n",
        "RANDOM_SEED = 42\n",
        "np.random.seed(RANDOM_SEED)\n",
        "\n",
        "# -------------------------\n",
        "# Параметры / имена файлов\n",
        "# -------------------------\n",
        "INPUT_CSV = \"features.csv\"            # входной файл с признаками\n",
        "OUTPUT_NORM_CSV = \"features_norm.csv\" # выходной нормализованный файл\n",
        "SCALERS_JOBLIB = \"scalers.joblib\"     # сериализованные скейлеры для инвертирования\n",
        "\n",
        "# -------------------------\n",
        "# Полезные трансформеры\n",
        "# -------------------------\n",
        "# логарифм с защитой от нулей\n",
        "log1p = FunctionTransformer(np.log1p, inverse_func=np.expm1, validate=True)\n",
        "\n",
        "# sin/cos для циклических (если нужно будет работать с azm)\n",
        "def cyclic_xy(arr_deg):\n",
        "    rad = np.deg2rad(arr_deg)\n",
        "    return np.vstack([np.sin(rad), np.cos(rad)]).T\n",
        "\n",
        "# -------------------------\n",
        "# Загрузка и подготовка\n",
        "# -------------------------\n",
        "df = pd.read_csv(INPUT_CSV)\n",
        "\n",
        "# Ожидаемые колонки (адаптируй, если какой-то нет)\n",
        "expected_cols = [\"randomized_id\", \"route_length_km\", \"est_time_min\",\n",
        "                 \"straightness\", \"mean_speed\", \"stop_ratio\", \"density\", \"rarity\"]\n",
        "\n",
        "# Оставим те, что есть\n",
        "present = [c for c in expected_cols if c in df.columns]\n",
        "if \"randomized_id\" not in df.columns:\n",
        "    raise ValueError(\"Ожидается колонка randomized_id в features.csv\")\n",
        "feature_cols = [c for c in present if c != \"randomized_id\"]\n",
        "\n",
        "# проверим на NaN и выполним простую очистку\n",
        "df = df[[\"randomized_id\"] + feature_cols].dropna().reset_index(drop=True)\n",
        "print(f\"Используем признаки: {feature_cols}, строки: {len(df)}\")\n",
        "\n",
        "\n",
        "# - route_length_km: log1p -> MinMax (лог сглаживает длинный хвост)\n",
        "# - est_time_min: log1p -> MinMax (если есть)\n",
        "# - straightness: StandardScaler (распр. близко к [0..1] но не гарант)\n",
        "# - mean_speed: RobustScaler (устойчив к выбросам)\n",
        "# - stop_ratio: MinMaxScaler (в диапазоне 0..1 уже)\n",
        "# - density: log1p -> MinMax\n",
        "# - rarity: log1p -> MinMax\n",
        "\n",
        "scalers = {}\n",
        "df_feats = df[feature_cols].copy()\n",
        "\n",
        "# ---- route_length_km\n",
        "if \"route_length_km\" in df_feats.columns:\n",
        "    p = Pipeline([\n",
        "        (\"log1p\", log1p),\n",
        "        (\"minmax\", MinMaxScaler())\n",
        "    ])\n",
        "    scalers[\"route_length_km\"] = p\n",
        "    df_feats[\"route_length_km\"] = p.fit_transform(df_feats[[\"route_length_km\"]])\n",
        "\n",
        "# ---- est_time_min\n",
        "if \"est_time_min\" in df_feats.columns:\n",
        "    p = Pipeline([(\"log1p\", log1p), (\"minmax\", MinMaxScaler())])\n",
        "    scalers[\"est_time_min\"] = p\n",
        "    df_feats[\"est_time_min\"] = p.fit_transform(df_feats[[\"est_time_min\"]])\n",
        "\n",
        "# ---- straightness\n",
        "if \"straightness\" in df_feats.columns:\n",
        "    # straightness в [0..1] обычно, но делаем StandardScaler для центрирования\n",
        "    p = Pipeline([(\"std\", StandardScaler())])\n",
        "    scalers[\"straightness\"] = p\n",
        "    df_feats[\"straightness\"] = p.fit_transform(df_feats[[\"straightness\"]])\n",
        "\n",
        "# ---- mean_speed\n",
        "if \"mean_speed\" in df_feats.columns:\n",
        "    # robust к выбросам\n",
        "    p = Pipeline([(\"robust\", RobustScaler())])\n",
        "    scalers[\"mean_speed\"] = p\n",
        "    df_feats[\"mean_speed\"] = p.fit_transform(df_feats[[\"mean_speed\"]])\n",
        "\n",
        "# ---- stop_ratio (проценты/доля) - MinMax\n",
        "if \"stop_ratio\" in df_feats.columns:\n",
        "    p = Pipeline([(\"minmax\", MinMaxScaler())])\n",
        "    scalers[\"stop_ratio\"] = p\n",
        "    df_feats[\"stop_ratio\"] = p.fit_transform(df_feats[[\"stop_ratio\"]])\n",
        "\n",
        "# ---- density (точки на км) - log1p -> MinMax\n",
        "if \"density\" in df_feats.columns:\n",
        "    p = Pipeline([(\"log1p\", log1p), (\"minmax\", MinMaxScaler())])\n",
        "    scalers[\"density\"] = p\n",
        "    df_feats[\"density\"] = p.fit_transform(df_feats[[\"density\"]])\n",
        "\n",
        "# ---- rarity - log1p -> MinMax\n",
        "if \"rarity\" in df_feats.columns:\n",
        "    p = Pipeline([(\"log1p\", log1p), (\"minmax\", MinMaxScaler())])\n",
        "    scalers[\"rarity\"] = p\n",
        "    df_feats[\"rarity\"] = p.fit_transform(df_feats[[\"rarity\"]])\n",
        "\n",
        "# Примечание: после некоторых трансформаций столбцы могут выйти за диапазон 0..1\n",
        "# (например StandardScaler для straightness). Для GA удобнее иметь все в 0..1:\n",
        "# поэтому финально сделаем MinMax по всему датафрейму, но сохраним промежуточные скейлеры.\n",
        "final_minmax = MinMaxScaler()\n",
        "df_final_norm_array = final_minmax.fit_transform(df_feats.values)\n",
        "df_final_norm = pd.DataFrame(df_final_norm_array, columns=df_feats.columns)\n",
        "\n",
        "# Сохраним финальный MinMax в scalers под ключ \"_global_minmax\"\n",
        "scalers[\"_global_minmax\"] = final_minmax\n",
        "\n",
        "# -------------------------\n",
        "# Сохраняем нормализованные данные\n",
        "# -------------------------\n",
        "out_df = pd.concat([df[[\"randomized_id\"]].reset_index(drop=True), df_final_norm.reset_index(drop=True)], axis=1)\n",
        "out_df.to_csv(OUTPUT_NORM_CSV, index=False)\n",
        "dump(scalers, SCALERS_JOBLIB)\n",
        "print(f\"Нормализованные данные сохранены в {OUTPUT_NORM_CSV}\")\n",
        "print(f\"Скейлеры сохранены в {SCALERS_JOBLIB}\")\n",
        "\n",
        "# -------------------------\n",
        "# Утилита: декодирование порогов\n",
        "# Предполагается, что пороги генетического алгоритма в диапазоне [0..1] относятся\n",
        "# к уже нормализованным колонкам, т.е. соответствуют порядку в df_final_norm.columns.\n",
        "# -------------------------\n",
        "def decode_thresholds(norm_thresholds_dict):\n",
        "    \"\"\"\n",
        "    Вход: dict: { 'route_length_km': val_norm, 'straightness': val_norm, ... }\n",
        "    val_norm в диапазоне [0..1] (как выход ГА).\n",
        "    Возврат: dict с реальными значениями в исходных единицах.\n",
        "    \"\"\"\n",
        "    # загружаем scalers (если не в памяти)\n",
        "    global scalers\n",
        "    if not scalers:\n",
        "        scalers = load(SCALERS_JOBLIB)\n",
        "\n",
        "    # сначала инвертируем глобальный MinMax (он применялся к вектору фичей)\n",
        "    global_minmax = scalers[\"_global_minmax\"]\n",
        "\n",
        "    # подготовим вектор со всеми признаками в том порядке, как df_feats.columns\n",
        "    feat_names = list(df_feats.columns)\n",
        "    # make base vector of zeros in normalized space\n",
        "    base_vector = np.zeros((1, len(feat_names)))\n",
        "    real_thresholds = {}\n",
        "\n",
        "    for name, val in norm_thresholds_dict.items():\n",
        "        if name not in feat_names:\n",
        "            raise KeyError(f\"{name} not found among features: {feat_names}\")\n",
        "        idx = feat_names.index(name)\n",
        "        # put value into base vector at correct idx\n",
        "        base_vector[0, idx] = val\n",
        "\n",
        "        # inverse global minmax -> get post-per-feature values AFTER per-feature pipelines\n",
        "        post_pipeline_vals = global_minmax.inverse_transform(base_vector)[0, idx]\n",
        "\n",
        "        # Now we need to invert the per-column pipeline to get original units.\n",
        "        col_scaler = scalers.get(name)\n",
        "        if col_scaler is None:\n",
        "            # если не было pipeline (неожиданно) просто берём post_pipeline_vals\n",
        "            real_thresholds[name] = float(post_pipeline_vals)\n",
        "        else:\n",
        "            # col_scaler is a sklearn Pipeline; use inverse_transform\n",
        "            # It expects 2D array input\n",
        "            try:\n",
        "                real = col_scaler.inverse_transform(np.array([[post_pipeline_vals]]))\n",
        "                real_val = float(real.ravel()[0])\n",
        "            except Exception as e:\n",
        "                # если pipeline выдаёт несколько колонок (напр. cyclic), fallback\n",
        "                real_val = float(post_pipeline_vals)\n",
        "            real_thresholds[name] = real_val\n",
        "\n",
        "        # zero back for next iteration\n",
        "        base_vector[0, idx] = 0.0\n",
        "\n",
        "    return real_thresholds\n",
        "\n",
        "# ---- пример использования decode_thresholds:\n",
        "# thresholds_norm = {\"route_length_km\": 0.8, \"straightness\": 0.2}\n",
        "# print(decode_thresholds(thresholds_norm))\n"
      ],
      "metadata": {
        "colab": {
          "base_uri": "https://localhost:8080/"
        },
        "id": "JyzIcIk5RH8I",
        "outputId": "4564e4ac-b71c-4e6c-b5fc-9c014cccd305"
      },
      "execution_count": 2,
      "outputs": [
        {
          "output_type": "stream",
          "name": "stdout",
          "text": [
            "Используем признаки: ['route_length_km', 'est_time_min', 'straightness', 'mean_speed', 'stop_ratio', 'density'], строки: 6805\n"
          ]
        },
        {
          "output_type": "stream",
          "name": "stderr",
          "text": [
            "/usr/local/lib/python3.12/dist-packages/sklearn/utils/validation.py:2739: UserWarning: X does not have valid feature names, but FunctionTransformer was fitted with feature names\n",
            "  warnings.warn(\n",
            "/usr/local/lib/python3.12/dist-packages/sklearn/utils/validation.py:2739: UserWarning: X does not have valid feature names, but FunctionTransformer was fitted with feature names\n",
            "  warnings.warn(\n",
            "/usr/local/lib/python3.12/dist-packages/sklearn/utils/validation.py:2739: UserWarning: X does not have valid feature names, but FunctionTransformer was fitted with feature names\n",
            "  warnings.warn(\n"
          ]
        },
        {
          "output_type": "stream",
          "name": "stdout",
          "text": [
            "Нормализованные данные сохранены в features_norm.csv\n",
            "Скейлеры сохранены в scalers.joblib\n"
          ]
        }
      ]
    },
    {
      "cell_type": "code",
      "source": [
        "# Removed failed installation attempt"
      ],
      "metadata": {
        "id": "lR5BRuSAY4Z1"
      },
      "execution_count": 12,
      "outputs": []
    },
    {
      "cell_type": "markdown",
      "source": [
        "# **Genetic Algorithm**\n",
        "Гибкость: справляется с шумными, нестандартными и нелинейными данными.\n",
        "\n",
        "Оптимизация глобально: ищет лучшие разбиения, а не застревает в локальных минимумах (как k-means).\n",
        "\n",
        "Адаптивность: легко добавлять бизнес-ограничения (минимальная плотность кластера, приоритетные маршруты).\n",
        "\n",
        "Интуитивность: можно визуализировать эволюцию кластеров и объяснять руководству, почему выбраны именно эти группы."
      ],
      "metadata": {
        "id": "peA2AsFedcIL"
      }
    },
    {
      "cell_type": "code",
      "source": [
        "import numpy as np\n",
        "import pandas as pd\n",
        "import random\n",
        "from scipy.stats import entropy # Changed import here\n",
        "\n",
        "# === Загружаем нормализованные данные ===\n",
        "df = pd.read_csv(\"features_norm.csv\")\n",
        "\n",
        "# Фичи для кластеризации\n",
        "FEATURES = ['route_length_km', 'est_time_min', 'straightness', 'mean_speed', 'stop_ratio', 'density']\n",
        "X = df[FEATURES].values\n",
        "\n",
        "# === Генетический алгоритм ===\n",
        "POP_SIZE = 50\n",
        "N_GEN = 50\n",
        "MUT_RATE = 0.2\n",
        "TOURN_SIZE = 5\n",
        "\n",
        "# Кластеров 5: A, B, C, D, E\n",
        "N_THRESH = 10  # пороги, которые кодируем\n",
        "N_PARAMS = N_THRESH\n",
        "\n",
        "def decode(ind):\n",
        "    \"\"\"Декодируем индивида -> словарь порогов\"\"\"\n",
        "    return {\n",
        "        'A_len': ind[0], 'A_str': ind[1],\n",
        "        'B_len': ind[2], 'B_str': ind[3],\n",
        "        'C_len': ind[4], 'C_speed': ind[5], 'C_stop': ind[6],\n",
        "        'D_rarity': ind[7],\n",
        "        'E_len': ind[8], 'E_speed': ind[9]\n",
        "    }\n",
        "\n",
        "def assign_clusters(ind):\n",
        "    \"\"\"Классификация маршрутов по порогам\"\"\"\n",
        "    thr = decode(ind)\n",
        "    clusters = {\n",
        "        'main_straight': [],\n",
        "        'long_curvy': [],\n",
        "        'short_city': [],\n",
        "        'rare': [],\n",
        "        'static_anomalies': []\n",
        "    }\n",
        "\n",
        "    for i, row in enumerate(X):\n",
        "        length, time, straight, speed, stop, dens = row\n",
        "\n",
        "        if length > thr['A_len'] and straight > thr['A_str']:\n",
        "            clusters['main_straight'].append(i)\n",
        "        elif length > thr['B_len'] and straight < thr['B_str']:\n",
        "            clusters['long_curvy'].append(i)\n",
        "        elif length < thr['C_len'] and speed > thr['C_speed'] and stop < thr['C_stop']:\n",
        "            clusters['short_city'].append(i)\n",
        "        elif dens < thr['D_rarity']:\n",
        "            clusters['rare'].append(i)\n",
        "        else:\n",
        "            clusters['static_anomalies'].append(i)\n",
        "\n",
        "    return clusters\n",
        "\n",
        "def fitness(ind):\n",
        "    \"\"\"Фитнес: учитываем баланс и штрафы\"\"\"\n",
        "    clusters = assign_clusters(ind)\n",
        "    sizes = [len(v) for v in clusters.values()]\n",
        "    total = sum(sizes)\n",
        "\n",
        "    if total == 0:\n",
        "        return -1e6\n",
        "\n",
        "    # Энтропия (равномерность распределения)\n",
        "    probs = [s/total for s in sizes if s > 0]\n",
        "    balance_score = entropy(probs)\n",
        "\n",
        "    # Штраф за пустые кластеры\n",
        "    empty_penalty = sum([1 for s in sizes if s == 0]) * -2.0\n",
        "\n",
        "    # Штраф за перекос (аномалии > 50%)\n",
        "    anomaly_penalty = -5.0 if sizes[-1] / total > 0.5 else 0.0\n",
        "\n",
        "    return balance_score * 100 + empty_penalty + anomaly_penalty\n",
        "\n",
        "def mutate(ind):\n",
        "    return [min(1.0, max(0.0, g + random.uniform(-0.1, 0.1))) if random.random() < MUT_RATE else g for g in ind]\n",
        "\n",
        "def crossover(p1, p2):\n",
        "    point = random.randint(1, N_PARAMS-1)\n",
        "    return p1[:point] + p2[point:], p2[:point] + p1[point:]\n",
        "\n",
        "def tournament(pop):\n",
        "    aspirants = random.sample(pop, TOURN_SIZE)\n",
        "    return max(aspirants, key=lambda ind: fitness(ind))\n",
        "\n",
        "# === Основной цикл ===\n",
        "pop = [[random.random() for _ in range(N_PARAMS)] for _ in range(POP_SIZE)]\n",
        "\n",
        "best = None\n",
        "for gen in range(N_GEN):\n",
        "    new_pop = []\n",
        "    for _ in range(POP_SIZE // 2):\n",
        "        p1, p2 = tournament(pop), tournament(pop)\n",
        "        c1, c2 = crossover(p1, p2)\n",
        "        new_pop.extend([mutate(c1), mutate(c2)])\n",
        "    pop = new_pop\n",
        "\n",
        "    best = max(pop, key=lambda ind: fitness(ind))\n",
        "    print(f\"Gen {gen:03d} best fitness = {fitness(best):.4f}\")\n",
        "\n",
        "# === Результат ===\n",
        "clusters = assign_clusters(best)\n",
        "for name, idx in clusters.items():\n",
        "    sub = df.iloc[idx]\n",
        "    sub.to_csv(f\"cluster_{name}.csv\", index=False)\n",
        "    print(f\"Saved {name}: {len(sub)} rows\")"
      ],
      "metadata": {
        "colab": {
          "base_uri": "https://localhost:8080/"
        },
        "id": "dVJafTpxP8FE",
        "outputId": "bba9f5c8-b978-4564-e060-f28bdcdb06c4"
      },
      "execution_count": 11,
      "outputs": [
        {
          "output_type": "stream",
          "name": "stdout",
          "text": [
            "Gen 000 best fitness = 125.2397\n",
            "Gen 001 best fitness = 138.1619\n",
            "Gen 002 best fitness = 141.3575\n",
            "Gen 003 best fitness = 145.2971\n",
            "Gen 004 best fitness = 147.1849\n",
            "Gen 005 best fitness = 151.6551\n",
            "Gen 006 best fitness = 151.6551\n",
            "Gen 007 best fitness = 154.1067\n",
            "Gen 008 best fitness = 154.1067\n",
            "Gen 009 best fitness = 154.9181\n",
            "Gen 010 best fitness = 157.1501\n",
            "Gen 011 best fitness = 157.2263\n",
            "Gen 012 best fitness = 159.1936\n",
            "Gen 013 best fitness = 159.1404\n",
            "Gen 014 best fitness = 160.4339\n",
            "Gen 015 best fitness = 160.6270\n",
            "Gen 016 best fitness = 160.4462\n",
            "Gen 017 best fitness = 160.6657\n",
            "Gen 018 best fitness = 160.7627\n",
            "Gen 019 best fitness = 160.7689\n",
            "Gen 020 best fitness = 160.8389\n",
            "Gen 021 best fitness = 160.8396\n",
            "Gen 022 best fitness = 160.8513\n",
            "Gen 023 best fitness = 160.8513\n",
            "Gen 024 best fitness = 160.8486\n",
            "Gen 025 best fitness = 160.8402\n",
            "Gen 026 best fitness = 160.8506\n",
            "Gen 027 best fitness = 160.8514\n",
            "Gen 028 best fitness = 160.8783\n",
            "Gen 029 best fitness = 160.8513\n",
            "Gen 030 best fitness = 160.8513\n",
            "Gen 031 best fitness = 160.8994\n",
            "Gen 032 best fitness = 160.8728\n",
            "Gen 033 best fitness = 160.8728\n",
            "Gen 034 best fitness = 160.8812\n",
            "Gen 035 best fitness = 160.8983\n",
            "Gen 036 best fitness = 160.8728\n",
            "Gen 037 best fitness = 160.9074\n",
            "Gen 038 best fitness = 160.9074\n",
            "Gen 039 best fitness = 160.9081\n",
            "Gen 040 best fitness = 160.9062\n",
            "Gen 041 best fitness = 160.9057\n",
            "Gen 042 best fitness = 160.9081\n",
            "Gen 043 best fitness = 160.9074\n",
            "Gen 044 best fitness = 160.9081\n",
            "Gen 045 best fitness = 160.9081\n",
            "Gen 046 best fitness = 160.9081\n",
            "Gen 047 best fitness = 160.9081\n",
            "Gen 048 best fitness = 160.9081\n",
            "Gen 049 best fitness = 160.9081\n",
            "Saved main_straight: 1364 rows\n",
            "Saved long_curvy: 1332 rows\n",
            "Saved short_city: 1359 rows\n",
            "Saved rare: 1323 rows\n",
            "Saved static_anomalies: 1427 rows\n"
          ]
        }
      ]
    },
    {
      "cell_type": "code",
      "source": [
        "pip install folium branca"
      ],
      "metadata": {
        "colab": {
          "base_uri": "https://localhost:8080/"
        },
        "id": "u-ec2shrM8nL",
        "outputId": "004ff12c-db58-486e-e171-e8609953f608"
      },
      "execution_count": 1,
      "outputs": [
        {
          "output_type": "stream",
          "name": "stdout",
          "text": [
            "Requirement already satisfied: folium in /usr/local/lib/python3.12/dist-packages (0.20.0)\n",
            "Requirement already satisfied: branca in /usr/local/lib/python3.12/dist-packages (0.8.1)\n",
            "Requirement already satisfied: jinja2>=2.9 in /usr/local/lib/python3.12/dist-packages (from folium) (3.1.6)\n",
            "Requirement already satisfied: numpy in /usr/local/lib/python3.12/dist-packages (from folium) (2.0.2)\n",
            "Requirement already satisfied: requests in /usr/local/lib/python3.12/dist-packages (from folium) (2.32.4)\n",
            "Requirement already satisfied: xyzservices in /usr/local/lib/python3.12/dist-packages (from folium) (2025.4.0)\n",
            "Requirement already satisfied: MarkupSafe>=2.0 in /usr/local/lib/python3.12/dist-packages (from jinja2>=2.9->folium) (3.0.2)\n",
            "Requirement already satisfied: charset_normalizer<4,>=2 in /usr/local/lib/python3.12/dist-packages (from requests->folium) (3.4.3)\n",
            "Requirement already satisfied: idna<4,>=2.5 in /usr/local/lib/python3.12/dist-packages (from requests->folium) (3.10)\n",
            "Requirement already satisfied: urllib3<3,>=1.21.1 in /usr/local/lib/python3.12/dist-packages (from requests->folium) (2.5.0)\n",
            "Requirement already satisfied: certifi>=2017.4.17 in /usr/local/lib/python3.12/dist-packages (from requests->folium) (2025.8.3)\n"
          ]
        }
      ]
    },
    {
      "cell_type": "code",
      "source": [
        "import pandas as pd\n",
        "\n",
        "# Загружаем все кластеры\n",
        "clusters = {\n",
        "    \"main_straight\": pd.read_csv(\"cluster_main_straight.csv\"),\n",
        "    \"long_curvy\": pd.read_csv(\"cluster_long_curvy.csv\"),\n",
        "    \"short_city\": pd.read_csv(\"cluster_short_city.csv\"),\n",
        "    \"rare\": pd.read_csv(\"cluster_rare.csv\"),\n",
        "    \"static_anomalies\": pd.read_csv(\"cluster_static_anomalies.csv\"),\n",
        "}\n",
        "\n",
        "# Добавляем колонку \"cluster\" в каждый\n",
        "for name, df in clusters.items():\n",
        "    df[\"cluster\"] = name\n",
        "    clusters[name] = df\n",
        "\n",
        "# Объединяем в один датафрейм\n",
        "df_all = pd.concat(clusters.values(), ignore_index=True)\n",
        "\n",
        "# Сохраняем общий CSV\n",
        "df_all.to_csv(\"clusters_with_labels.csv\", index=False)\n",
        "\n",
        "print(\"✅ Собран общий датасет clusters_with_labels.csv\")\n"
      ],
      "metadata": {
        "colab": {
          "base_uri": "https://localhost:8080/"
        },
        "id": "3j--r3B90xh-",
        "outputId": "88657a36-59da-48e5-b225-11cef0ceea50"
      },
      "execution_count": 7,
      "outputs": [
        {
          "output_type": "stream",
          "name": "stdout",
          "text": [
            "✅ Собран общий датасет clusters_with_labels.csv\n"
          ]
        }
      ]
    },
    {
      "cell_type": "markdown",
      "source": [
        "# **Интерактивный Дашборд**\n",
        "Код создаёт интерактивный дашборд по всем кластерам маршрутов, показывая:\n",
        "\n",
        "Сколько маршрутов в каждом кластере\n",
        "\n",
        "Зависимость длины маршрута и прямолинейности\n",
        "\n",
        "Распределение скоростей\n",
        "\n",
        "Средние характеристики кластеров в радарной диаграмме"
      ],
      "metadata": {
        "id": "AFOT3Wk2YWEv"
      }
    },
    {
      "cell_type": "code",
      "source": [
        "import pandas as pd\n",
        "import plotly.express as px\n",
        "import plotly.graph_objects as go\n",
        "import numpy as np\n",
        "\n",
        "# Загружаем все кластеры из CSV\n",
        "clusters = {\n",
        "    \"main_straight\": pd.read_csv(\"cluster_main_straight.csv\"),\n",
        "    \"long_curvy\": pd.read_csv(\"cluster_long_curvy.csv\"),\n",
        "    \"short_city\": pd.read_csv(\"cluster_short_city.csv\"),\n",
        "    \"rare\": pd.read_csv(\"cluster_rare.csv\"),\n",
        "    \"static_anomalies\": pd.read_csv(\"cluster_static_anomalies.csv\"),\n",
        "}\n",
        "\n",
        "# Добавляем колонку cluster\n",
        "for name, df in clusters.items():\n",
        "    df[\"cluster\"] = name\n",
        "    clusters[name] = df\n",
        "\n",
        "# Объединяем всё в один датафрейм\n",
        "df = pd.concat(clusters.values(), ignore_index=True)\n",
        "\n",
        "# --- 1. Количество маршрутов в каждом кластере ---\n",
        "fig1 = px.histogram(df, x=\"cluster\", title=\"Распределение маршрутов по кластерам\")\n",
        "\n",
        "# --- 2. Длина маршрута vs прямолинейность ---\n",
        "fig2 = px.scatter(\n",
        "    df, x=\"route_length_km\", y=\"straightness\", color=\"cluster\",\n",
        "    title=\"Длина маршрута vs Прямолинейность\", opacity=0.6\n",
        ")\n",
        "\n",
        "# --- 3. Boxplot скоростей по кластерам ---\n",
        "fig3 = px.box(\n",
        "    df, x=\"cluster\", y=\"mean_speed\", color=\"cluster\",\n",
        "    title=\"Скорость внутри кластеров\"\n",
        ")\n",
        "\n",
        "# --- 4. Radar chart – усреднённые характеристики кластеров ---\n",
        "features = [\"route_length_km\",\"est_time_min\",\"straightness\",\"mean_speed\",\"stop_ratio\",\"density\"]\n",
        "\n",
        "cluster_means = df.groupby(\"cluster\")[features].mean().reset_index()\n",
        "\n",
        "radar_fig = go.Figure()\n",
        "for _, row in cluster_means.iterrows():\n",
        "    r_values = [row[feat] for feat in features]\n",
        "    radar_fig.add_trace(go.Scatterpolar(\n",
        "        r=r_values,\n",
        "        theta=features,\n",
        "        fill='toself',\n",
        "        name=row['cluster']\n",
        "    ))\n",
        "radar_fig.update_layout(\n",
        "    polar=dict(radialaxis=dict(visible=True)),\n",
        "    title=\"Средние значения признаков по кластерам\"\n",
        ")\n",
        "\n",
        "# --- Сохраняем в HTML ---\n",
        "with open(\"clusters_dashboard.html\", \"w\") as f:\n",
        "    f.write(fig1.to_html(full_html=False, include_plotlyjs='cdn'))\n",
        "    f.write(fig2.to_html(full_html=False, include_plotlyjs=False))\n",
        "    f.write(fig3.to_html(full_html=False, include_plotlyjs=False))\n",
        "    f.write(radar_fig.to_html(full_html=False, include_plotlyjs=False))\n",
        "\n",
        "print(\"✅ Дашборд сохранён в clusters_dashboard.html – открой его в браузере!\")\n"
      ],
      "metadata": {
        "colab": {
          "base_uri": "https://localhost:8080/"
        },
        "id": "zWILkiGPzbcy",
        "outputId": "baaf24b5-07dc-4991-857d-d76a43de9fba"
      },
      "execution_count": 9,
      "outputs": [
        {
          "output_type": "stream",
          "name": "stdout",
          "text": [
            "✅ Дашборд сохранён в clusters_dashboard.html – открой его в браузере!\n"
          ]
        }
      ]
    },
    {
      "cell_type": "code",
      "source": [
        "pip install ortools"
      ],
      "metadata": {
        "colab": {
          "base_uri": "https://localhost:8080/",
          "height": 742
        },
        "id": "4N1OHORh3hY2",
        "outputId": "77977e44-94e7-42e3-e0d0-038f534a0390"
      },
      "execution_count": 11,
      "outputs": [
        {
          "output_type": "stream",
          "name": "stdout",
          "text": [
            "Collecting ortools\n",
            "  Downloading ortools-9.14.6206-cp312-cp312-manylinux_2_27_x86_64.manylinux_2_28_x86_64.whl.metadata (3.3 kB)\n",
            "Collecting absl-py>=2.0.0 (from ortools)\n",
            "  Downloading absl_py-2.3.1-py3-none-any.whl.metadata (3.3 kB)\n",
            "Requirement already satisfied: numpy>=1.13.3 in /usr/local/lib/python3.12/dist-packages (from ortools) (2.0.2)\n",
            "Requirement already satisfied: pandas>=2.0.0 in /usr/local/lib/python3.12/dist-packages (from ortools) (2.2.2)\n",
            "Collecting protobuf<6.32,>=6.31.1 (from ortools)\n",
            "  Downloading protobuf-6.31.1-cp39-abi3-manylinux2014_x86_64.whl.metadata (593 bytes)\n",
            "Requirement already satisfied: typing-extensions>=4.12 in /usr/local/lib/python3.12/dist-packages (from ortools) (4.15.0)\n",
            "Requirement already satisfied: immutabledict>=3.0.0 in /usr/local/lib/python3.12/dist-packages (from ortools) (4.2.1)\n",
            "Requirement already satisfied: python-dateutil>=2.8.2 in /usr/local/lib/python3.12/dist-packages (from pandas>=2.0.0->ortools) (2.9.0.post0)\n",
            "Requirement already satisfied: pytz>=2020.1 in /usr/local/lib/python3.12/dist-packages (from pandas>=2.0.0->ortools) (2025.2)\n",
            "Requirement already satisfied: tzdata>=2022.7 in /usr/local/lib/python3.12/dist-packages (from pandas>=2.0.0->ortools) (2025.2)\n",
            "Requirement already satisfied: six>=1.5 in /usr/local/lib/python3.12/dist-packages (from python-dateutil>=2.8.2->pandas>=2.0.0->ortools) (1.17.0)\n",
            "Downloading ortools-9.14.6206-cp312-cp312-manylinux_2_27_x86_64.manylinux_2_28_x86_64.whl (27.7 MB)\n",
            "\u001b[2K   \u001b[90m━━━━━━━━━━━━━━━━━━━━━━━━━━━━━━━━━━━━━━━━\u001b[0m \u001b[32m27.7/27.7 MB\u001b[0m \u001b[31m46.1 MB/s\u001b[0m eta \u001b[36m0:00:00\u001b[0m\n",
            "\u001b[?25hDownloading absl_py-2.3.1-py3-none-any.whl (135 kB)\n",
            "\u001b[2K   \u001b[90m━━━━━━━━━━━━━━━━━━━━━━━━━━━━━━━━━━━━━━━━\u001b[0m \u001b[32m135.8/135.8 kB\u001b[0m \u001b[31m10.0 MB/s\u001b[0m eta \u001b[36m0:00:00\u001b[0m\n",
            "\u001b[?25hDownloading protobuf-6.31.1-cp39-abi3-manylinux2014_x86_64.whl (321 kB)\n",
            "\u001b[2K   \u001b[90m━━━━━━━━━━━━━━━━━━━━━━━━━━━━━━━━━━━━━━━━\u001b[0m \u001b[32m321.1/321.1 kB\u001b[0m \u001b[31m22.2 MB/s\u001b[0m eta \u001b[36m0:00:00\u001b[0m\n",
            "\u001b[?25hInstalling collected packages: protobuf, absl-py, ortools\n",
            "  Attempting uninstall: protobuf\n",
            "    Found existing installation: protobuf 5.29.5\n",
            "    Uninstalling protobuf-5.29.5:\n",
            "      Successfully uninstalled protobuf-5.29.5\n",
            "  Attempting uninstall: absl-py\n",
            "    Found existing installation: absl-py 1.4.0\n",
            "    Uninstalling absl-py-1.4.0:\n",
            "      Successfully uninstalled absl-py-1.4.0\n",
            "\u001b[31mERROR: pip's dependency resolver does not currently take into account all the packages that are installed. This behaviour is the source of the following dependency conflicts.\n",
            "grpcio-status 1.71.2 requires protobuf<6.0dev,>=5.26.1, but you have protobuf 6.31.1 which is incompatible.\n",
            "tensorflow 2.19.0 requires protobuf!=4.21.0,!=4.21.1,!=4.21.2,!=4.21.3,!=4.21.4,!=4.21.5,<6.0.0dev,>=3.20.3, but you have protobuf 6.31.1 which is incompatible.\n",
            "google-ai-generativelanguage 0.6.15 requires protobuf!=4.21.0,!=4.21.1,!=4.21.2,!=4.21.3,!=4.21.4,!=4.21.5,<6.0.0dev,>=3.20.2, but you have protobuf 6.31.1 which is incompatible.\u001b[0m\u001b[31m\n",
            "\u001b[0mSuccessfully installed absl-py-2.3.1 ortools-9.14.6206 protobuf-6.31.1\n"
          ]
        },
        {
          "output_type": "display_data",
          "data": {
            "application/vnd.colab-display-data+json": {
              "pip_warning": {
                "packages": [
                  "google"
                ]
              },
              "id": "ca6a901cd14f443ab31a6007d320eaf0"
            }
          },
          "metadata": {}
        }
      ]
    },
    {
      "cell_type": "markdown",
      "source": [
        "# **Алгоритм на основе Travel Salesment Problem для оптимизации маршрутов**\n",
        "Берёт N маршрутов (по умолчанию 10) из этого кластера для демонстрации TSP.\n",
        "\n",
        "Создаёт искусственные координаты (x, y) для этих маршрутов, потому что у нас нет реальных геокоординат — точки расставлены по кругу пропорционально длине маршрута.\n",
        "\n",
        "Строит матрицу расстояний между точками, используя est_time_min как основу.\n",
        "\n",
        "Решает задачу TSP с помощью OR-Tools, чтобы найти оптимальный порядок посещения всех точек (минимальная суммарная “дистанция”).\n",
        "\n",
        "Выводит в консоль:\n",
        "\n",
        "Порядок точек в оптимальном маршруте (route).\n",
        "\n",
        "Общую суммарную “дистанцию” маршрута (route_distance).\n",
        "\n",
        "Визуализирует маршрут:\n",
        "\n",
        "Линиями соединяет точки по оптимальному порядку.\n",
        "\n",
        "Отмечает сами точки красными маркерами с номерами.\n",
        "\n",
        "Сохраняет интерактивный HTML (tsp_demo.html), который можно открыть в браузере и посмотреть маршрут."
      ],
      "metadata": {
        "id": "DbVgTNLXZ4Z_"
      }
    },
    {
      "cell_type": "code",
      "source": [
        "import pandas as pd\n",
        "import numpy as np\n",
        "import plotly.graph_objects as go\n",
        "from ortools.constraint_solver import pywrapcp, routing_enums_pb2\n",
        "\n",
        "# --- 1. Загружаем нормализованные фичи с кластерами ---\n",
        "# Load the dataframe that includes the cluster labels\n",
        "df = pd.read_csv(\"clusters_with_labels.csv\")\n",
        "\n",
        "# Для примера возьмём кластер main_straight (магистрали)\n",
        "cluster_name = \"main_straight\"\n",
        "df_cluster = df[df[\"cluster\"] == cluster_name].copy()\n",
        "\n",
        "# --- 2. Выбираем N точек для TSP ---\n",
        "N = 10\n",
        "# Check if the cluster has enough points\n",
        "if len(df_cluster) < N:\n",
        "    print(f\"Warning: Cluster '{cluster_name}' has only {len(df_cluster)} points, sampling all available points.\")\n",
        "    N = len(df_cluster)\n",
        "    if N == 0:\n",
        "        print(f\"Cluster '{cluster_name}' is empty. Cannot perform TSP.\")\n",
        "        # Exit or handle the empty cluster case appropriately\n",
        "    else:\n",
        "        df_sample = df_cluster.sample(N, random_state=42).reset_index(drop=True)\n",
        "else:\n",
        "    df_sample = df_cluster.sample(N, random_state=42).reset_index(drop=True)\n",
        "\n",
        "\n",
        "# Для красоты создаём искусственные координаты (потому что у нас только признаки)\n",
        "# Мы просто раскинем точки по кругу\n",
        "# Use a consistent scaling factor for visualization\n",
        "scaling_factor = 100\n",
        "angles = np.linspace(0, 2*np.pi, N, endpoint=False)\n",
        "df_sample[\"x\"] = np.cos(angles) * df_sample[\"route_length_km\"] * scaling_factor\n",
        "df_sample[\"y\"] = np.sin(angles) * df_sample[\"route_length_km\"] * scaling_factor\n",
        "\n",
        "\n",
        "# --- 3. Матрица расстояний ---\n",
        "# Используем est_time_min как основу (разница во времени)\n",
        "# Ensure the values are non-negative integers for the distance matrix\n",
        "dist_matrix = np.abs(df_sample[\"est_time_min\"].values[:, None] - df_sample[\"est_time_min\"].values[None, :])\n",
        "dist_matrix = (dist_matrix * 1000).astype(int).tolist() # Scale and convert to integer\n",
        "\n",
        "# --- 4. Решаем TSP через OR-Tools ---\n",
        "manager = pywrapcp.RoutingIndexManager(len(dist_matrix), 1, 0)  # 1 водитель, старт с 0\n",
        "routing = pywrapcp.RoutingModel(manager)\n",
        "\n",
        "def distance_callback(from_index, to_index):\n",
        "    \"\"\"Returns the distance between the two nodes.\"\"\"\n",
        "    # Convert from routing vehicle solutions to distance matrix indices.\n",
        "    from_node = manager.IndexToNode(from_index)\n",
        "    to_node = manager.IndexToNode(to_index)\n",
        "    return dist_matrix[from_node][to_node]\n",
        "\n",
        "transit_callback_index = routing.RegisterTransitCallback(distance_callback)\n",
        "routing.SetArcCostEvaluatorOfAllVehicles(transit_callback_index)\n",
        "\n",
        "# Настройки поиска\n",
        "search_parameters = pywrapcp.DefaultRoutingSearchParameters()\n",
        "search_parameters.first_solution_strategy = routing_enums_pb2.FirstSolutionStrategy.PATH_CHEAPEST_ARC\n",
        "\n",
        "solution = routing.SolveWithParameters(search_parameters)\n",
        "\n",
        "# --- 5. Достаём маршрут ---\n",
        "if solution:\n",
        "    print(\"🚖 Оптимальный маршрут:\")\n",
        "    route = []\n",
        "    index = routing.Start(0)\n",
        "    route_distance = 0\n",
        "    while not routing.IsEnd(index):\n",
        "        route.append(manager.IndexToNode(index))\n",
        "        previous_index = index\n",
        "        index = solution.Value(routing.NextVar(index))\n",
        "        # Add the distance of the arc to the total distance\n",
        "        route_distance += routing.GetArcCostForVehicle(previous_index, index, 0)\n",
        "    route.append(manager.IndexToNode(index))\n",
        "    print(route)\n",
        "    print(f\"Total distance of the route: {route_distance}\")\n",
        "\n",
        "    # --- 6. Визуализация маршрута ---\n",
        "    edges_x = []\n",
        "    edges_y = []\n",
        "    for i in range(len(route) - 1):\n",
        "        p1 = df_sample.loc[route[i]]\n",
        "        p2 = df_sample.loc[route[i+1]]\n",
        "        edges_x += [p1[\"x\"], p2[\"x\"], None]\n",
        "        edges_y += [p1[\"y\"], p2[\"y\"], None]\n",
        "\n",
        "    fig = go.Figure()\n",
        "\n",
        "    # Рёбра маршрута\n",
        "    fig.add_trace(go.Scatter(\n",
        "        x=edges_x, y=edges_y,\n",
        "        mode=\"lines\",\n",
        "        line=dict(color=\"blue\", width=2),\n",
        "        name=\"Маршрут\"\n",
        "    ))\n",
        "\n",
        "    # Точки\n",
        "    fig.add_trace(go.Scatter(\n",
        "        x=df_sample[\"x\"], y=df_sample[\"y\"],\n",
        "        mode=\"markers+text\",\n",
        "        marker=dict(size=10, color=\"red\"),\n",
        "        text=[f\"Point {i}\" for i in df_sample.index],\n",
        "        textposition=\"top center\",\n",
        "        name=\"Точки\"\n",
        "    ))\n",
        "\n",
        "    fig.update_layout(\n",
        "        title=f\"TSP оптимизация – {cluster_name} ({N} точек)\",\n",
        "        xaxis=dict(visible=False),\n",
        "        yaxis=dict(visible=False),\n",
        "        showlegend=True\n",
        "    )\n",
        "\n",
        "    fig.write_html(\"tsp_demo.html\")\n",
        "    print(\"✅ TSP результат сохранён в tsp_demo.html – открой в браузере!\")\n",
        "else:\n",
        "    print(\"❌ TSP solution not found.\")"
      ],
      "metadata": {
        "colab": {
          "base_uri": "https://localhost:8080/"
        },
        "id": "5fjjlQVZ3d8B",
        "outputId": "259757dc-b41a-434c-95ab-095f90e7064c"
      },
      "execution_count": 13,
      "outputs": [
        {
          "output_type": "stream",
          "name": "stdout",
          "text": [
            "🚖 Оптимальный маршрут:\n",
            "[0, 4, 6, 1, 2, 8, 3, 7, 9, 5, 0]\n",
            "Total distance of the route: 1392\n",
            "✅ TSP результат сохранён в tsp_demo.html – открой в браузере!\n"
          ]
        }
      ]
    },
    {
      "cell_type": "code",
      "source": [
        "import pandas as pd\n",
        "import numpy as np\n",
        "import folium\n",
        "from folium.plugins import HeatMap\n",
        "\n",
        "# ======= Шаг 1: Загружаем данные =======\n",
        "geo = pd.read_csv(\"geo_locations_astana_hackathon\")  # randomized_id, lat, lon\n",
        "features = pd.read_csv(\"features.csv\")                   # randomized_id + метрики\n",
        "cluster_short = pd.read_csv(\"cluster_short_city.csv\")    # randomized_id + cluster data\n",
        "\n",
        "# ======= Шаг 2: Готовим centroid =======\n",
        "def compute_coords(group):\n",
        "    lat = group['lat'].values\n",
        "    lon = group['lng'].values\n",
        "    return pd.Series({\n",
        "        \"start_lat\": lat[0], \"start_lon\": lon[0],\n",
        "        \"end_lat\": lat[-1], \"end_lon\": lon[-1],\n",
        "        \"centroid_lat\": np.mean(lat), \"centroid_lon\": np.mean(lon)\n",
        "    })\n",
        "\n",
        "coords = geo.groupby(\"randomized_id\").apply(compute_coords).reset_index()\n",
        "\n",
        "# ======= Шаг 3: Мёрджим кластер с координатами =======\n",
        "short_city_coords = cluster_short.merge(coords, on=\"randomized_id\", how=\"left\")\n",
        "\n",
        "# ======= Шаг 4: Строим карту =======\n",
        "# центр карты = центр Астаны\n",
        "center = [short_city_coords[\"centroid_lat\"].mean(),\n",
        "          short_city_coords[\"centroid_lon\"].mean()]\n",
        "\n",
        "m = folium.Map(location=center, zoom_start=12, tiles=\"CartoDB positron\")\n",
        "\n",
        "# Добавим heatmap по центроидам\n",
        "heat_data = short_city_coords[[\"centroid_lat\", \"centroid_lon\"]].dropna().values.tolist()\n",
        "HeatMap(heat_data, radius=7, blur=10).add_to(m)\n",
        "\n",
        "# Сохраним карту\n",
        "m.save(\"short_city_cluster_map.html\")\n",
        "print(\"Saved short_city_cluster_map.html\")\n"
      ],
      "metadata": {
        "colab": {
          "base_uri": "https://localhost:8080/"
        },
        "id": "5i03hF3d7NSz",
        "outputId": "f424c30f-19c4-4995-fe15-49b2457cc616"
      },
      "execution_count": 17,
      "outputs": [
        {
          "output_type": "stream",
          "name": "stdout",
          "text": [
            "Saved short_city_cluster_map.html\n"
          ]
        },
        {
          "output_type": "stream",
          "name": "stderr",
          "text": [
            "/tmp/ipython-input-2003330013.py:21: DeprecationWarning:\n",
            "\n",
            "DataFrameGroupBy.apply operated on the grouping columns. This behavior is deprecated, and in a future version of pandas the grouping columns will be excluded from the operation. Either pass `include_groups=False` to exclude the groupings or explicitly select the grouping columns after groupby to silence this warning.\n",
            "\n"
          ]
        }
      ]
    },
    {
      "cell_type": "markdown",
      "source": [
        "# **Данный код**\n",
        "Загружает кластер длинных кривых маршрутов (cluster_long_curvy.csv).\n",
        "\n",
        "Создаёт таргет late: поездка считается опоздавшей, если mean_speed < 80% медианной скорости.\n",
        "\n",
        "Использует признаки: route_length_km, straightness, stop_ratio.\n",
        "\n",
        "Делит данные на train/test (80/20).\n",
        "\n",
        "Строит Random Forest для предсказания опозданий.\n",
        "\n",
        "Печатает точность модели (Accuracy).\n",
        "\n",
        "Строит график важности признаков (feature importance) с помощью Seaborn."
      ],
      "metadata": {
        "id": "dTlf9iv3aM2X"
      }
    },
    {
      "cell_type": "code",
      "source": [
        "import pandas as pd\n",
        "from sklearn.model_selection import train_test_split\n",
        "from sklearn.ensemble import RandomForestClassifier\n",
        "from sklearn.metrics import accuracy_score\n",
        "\n",
        "# Загружаем данные\n",
        "df = pd.read_csv(\"cluster_long_curvy.csv\")\n",
        "\n",
        "# Создадим таргет: опоздание, если скорость ниже 80% от средней\n",
        "df['late'] = (df['mean_speed'] < df['mean_speed'].median() * 0.8).astype(int)\n",
        "\n",
        "# Признаки\n",
        "features = ['route_length_km', 'straightness', 'stop_ratio']\n",
        "X = df[features]\n",
        "y = df['late']\n",
        "\n",
        "# Разделение на train/test\n",
        "X_train, X_test, y_train, y_test = train_test_split(X, y, test_size=0.2, random_state=42)\n",
        "\n",
        "# Модель\n",
        "model = RandomForestClassifier(n_estimators=100, random_state=42)\n",
        "model.fit(X_train, y_train)\n",
        "\n",
        "# Оценка\n",
        "y_pred = model.predict(X_test)\n",
        "print(\"Accuracy:\", accuracy_score(y_test, y_pred))\n",
        "\n",
        "# Важность признаков\n",
        "import matplotlib.pyplot as plt\n",
        "import seaborn as sns\n",
        "\n",
        "importances = model.feature_importances_\n",
        "sns.barplot(x=features, y=importances)\n",
        "plt.title(\"Feature Importance\")\n",
        "plt.show()\n"
      ],
      "metadata": {
        "colab": {
          "base_uri": "https://localhost:8080/",
          "height": 470
        },
        "id": "y6V5ryPy_ajW",
        "outputId": "bc3f798a-fae8-4207-f567-7456a1ddfe8b"
      },
      "execution_count": 18,
      "outputs": [
        {
          "output_type": "stream",
          "name": "stdout",
          "text": [
            "Accuracy: 0.8876404494382022\n"
          ]
        },
        {
          "output_type": "display_data",
          "data": {
            "text/plain": [
              "<Figure size 640x480 with 1 Axes>"
            ],
            "image/png": "[encoded data removed]"
          },
          "metadata": {}
        }
      ]
    },
    {
      "cell_type": "markdown",
      "source": [
        "# **Топ 10 маршрутов с высокой вероятностью опоздании**\n",
        "Создаёт таргет late: поездка опоздала, если mean_speed < 80% медианной.\n",
        "\n",
        "Использует признаки: route_length_km, straightness, stop_ratio.\n",
        "\n",
        "Делит данные на train/test и обучает Random Forest.\n",
        "\n",
        "Предсказывает вероятность опоздания для всех маршрутов (late_prob).\n",
        "\n",
        "Выводит топ-10 маршрутов с самой высокой вероятностью опоздания.\n",
        "\n",
        "⚡ Идея: определить, какие маршруты чаще задерживаются, чтобы можно было оптимизировать логистику или предупреждать водителей."
      ],
      "metadata": {
        "id": "6NqPmDgbaU_M"
      }
    },
    {
      "cell_type": "code",
      "source": [
        "import pandas as pd\n",
        "from sklearn.model_selection import train_test_split\n",
        "from sklearn.ensemble import RandomForestClassifier\n",
        "\n",
        "# Загружаем данные\n",
        "df = pd.read_csv(\"cluster_long_curvy.csv\")\n",
        "\n",
        "# Создаем таргет (опоздание = средняя скорость < 80% медианной)\n",
        "df['late'] = (df['mean_speed'] < df['mean_speed'].median() * 0.8).astype(int)\n",
        "\n",
        "# Признаки\n",
        "features = ['route_length_km', 'straightness', 'stop_ratio']\n",
        "X = df[features]\n",
        "y = df['late']\n",
        "\n",
        "# Разделение на train/test\n",
        "X_train, X_test, y_train, y_test = train_test_split(X, y, test_size=0.2, random_state=42)\n",
        "\n",
        "# Модель\n",
        "model = RandomForestClassifier(n_estimators=100, random_state=42)\n",
        "model.fit(X_train, y_train)\n",
        "\n",
        "# Предсказания вероятностей опозданий для всех маршрутов\n",
        "df['late_prob'] = model.predict_proba(X[features])[:, 1]  # вероятность класса 1\n",
        "\n",
        "# Выведем топ-10 маршрутов с наибольшей вероятностью опоздания\n",
        "top_late_routes = df[['randomized_id', 'late_prob']].sort_values(by='late_prob', ascending=False).head(10)\n",
        "print(\"Топ-10 маршрутов с высокой вероятностью опоздания:\")\n",
        "print(top_late_routes)\n"
      ],
      "metadata": {
        "colab": {
          "base_uri": "https://localhost:8080/"
        },
        "id": "mgkW2lyM_qO1",
        "outputId": "12cc4d31-d844-4c23-e0bd-c1505279ed61"
      },
      "execution_count": 19,
      "outputs": [
        {
          "output_type": "stream",
          "name": "stdout",
          "text": [
            "Топ-10 маршрутов с высокой вероятностью опоздания:\n",
            "            randomized_id  late_prob\n",
            "860   2564812888473547046        1.0\n",
            "806   1915210776857386541        1.0\n",
            "818   2047779033055903079        1.0\n",
            "40   -8549113909338844187        1.0\n",
            "553  -1326497112028288903        1.0\n",
            "1118  6307790312098831573        1.0\n",
            "182  -6628169312461105783        1.0\n",
            "1208  7477136536144274842        1.0\n",
            "612   -705010862779289088        1.0\n",
            "999   4655498359336984228        1.0\n"
          ]
        }
      ]
    },
    {
      "cell_type": "markdown",
      "source": [
        "# **Определяет и визуализирует топ-10 магистралей (Main Straight) по “важности” маршрута, чтобы понять, где сосредоточить ресурсы.**\n",
        "\n",
        "Загружает данные кластера магистралей (cluster_main_straight.csv).\n",
        "\n",
        "Вычисляет corridor_score = route_length_km × straightness × density.\n",
        "\n",
        "Берёт топ-10 маршрутов по этому баллу.\n",
        "\n",
        "Печатает таблицу с ключевыми параметрами (randomized_id, длина, прямолинейность, плотность, score).\n",
        "\n",
        "Строит горизонтальный бар-чарт для визуального представления топ-коридоров.\n",
        "\n",
        "Идея:\n",
        "Определить главные коридоры спроса, где водителям выгодно работать или запускать карпулинг."
      ],
      "metadata": {
        "id": "fq3Ij7eia5bN"
      }
    },
    {
      "cell_type": "code",
      "source": [
        "import pandas as pd\n",
        "import matplotlib.pyplot as plt\n",
        "\n",
        "df = pd.read_csv(\"cluster_main_straight.csv\")\n",
        "\n",
        "# Считаем \"важность\" маршрута: длина * straightness * density\n",
        "df['corridor_score'] = df['route_length_km'] * df['straightness'] * df['density']\n",
        "\n",
        "# Берем топ 10 маршрутов\n",
        "top_corridors = df.sort_values('corridor_score', ascending=False).head(10)\n",
        "print(\"Топ коридоров спроса (Main Straight):\")\n",
        "print(top_corridors[['randomized_id','route_length_km','straightness','density','corridor_score']])\n",
        "\n",
        "# Визуализация на графике\n",
        "plt.barh(top_corridors['randomized_id'], top_corridors['corridor_score'])\n",
        "plt.xlabel(\"Corridor Score\")\n",
        "plt.ylabel(\"Route ID\")\n",
        "plt.title(\"Top 10 Main Straight Corridors\")\n",
        "plt.gca().invert_yaxis()\n",
        "plt.show()\n"
      ],
      "metadata": {
        "colab": {
          "base_uri": "https://localhost:8080/",
          "height": 901
        },
        "id": "w5QXrSxgBDs0",
        "outputId": "03a5888a-9c36-4bd7-f7a2-89fb092439f1"
      },
      "execution_count": 21,
      "outputs": [
        {
          "output_type": "stream",
          "name": "stdout",
          "text": [
            "Топ коридоров спроса (Main Straight):\n",
            "            randomized_id  route_length_km  straightness   density  \\\n",
            "10   -9113725169412304501         0.596303      0.019461  0.180023   \n",
            "535  -1658903206038065141         0.600201      0.025675  0.113259   \n",
            "440  -3106595190592754824         0.573244      0.031952  0.093832   \n",
            "1120  6222314629454530080         0.574732      0.029181  0.102049   \n",
            "771   1541293291559276484         0.571265      0.032462  0.090003   \n",
            "475  -2655102569242097963         0.564638      0.031487  0.093146   \n",
            "1108  5999332227889271592         0.593833      0.024178  0.115095   \n",
            "273  -5807301351442859122         0.565253      0.028365  0.100033   \n",
            "175  -6972639052345521610         0.612499      0.026401  0.095199   \n",
            "786   1758262096676985471         0.592593      0.025579  0.100067   \n",
            "\n",
            "      corridor_score  \n",
            "10          0.002089  \n",
            "535         0.001745  \n",
            "440         0.001719  \n",
            "1120        0.001711  \n",
            "771         0.001669  \n",
            "475         0.001656  \n",
            "1108        0.001653  \n",
            "273         0.001604  \n",
            "175         0.001539  \n",
            "786         0.001517  \n"
          ]
        },
        {
          "output_type": "display_data",
          "data": {
            "text/plain": [
              "<Figure size 640x480 with 1 Axes>"
            ],
            "image/png": "[encoded data removed]"
          },
          "metadata": {}
        }
      ]
    },
    {
      "cell_type": "code",
      "source": [
        "import pandas as pd\n",
        "\n",
        "# Загружаем кластерный датасет\n",
        "df_cluster = pd.read_csv(\"cluster_main_straight.csv\")  # или любой другой кластер\n",
        "\n",
        "# Загружаем файл с геокоординатами\n",
        "df_geo = pd.read_csv(\"/content/geo_locations_astana_hackathon\")  # тут должны быть columns: randomized_id, latitude, longitude\n",
        "\n",
        "# Делим merge по randomized_id\n",
        "df_merged = df_cluster.merge(df_geo[['randomized_id','lat','lng']],\n",
        "                             on='randomized_id',\n",
        "                             how='left')  # left join, чтобы все маршруты остались\n",
        "\n",
        "# Проверяем\n",
        "print(df_merged.head())\n"
      ],
      "metadata": {
        "colab": {
          "base_uri": "https://localhost:8080/"
        },
        "id": "33__yxvWClNk",
        "outputId": "2b722b14-f8dc-4647-c71e-84db634ce931"
      },
      "execution_count": 24,
      "outputs": [
        {
          "output_type": "stream",
          "name": "stdout",
          "text": [
            "         randomized_id  route_length_km  est_time_min  straightness  \\\n",
            "0 -9221304899272910788         0.648734      0.706307      0.010801   \n",
            "1 -9221304899272910788         0.648734      0.706307      0.010801   \n",
            "2 -9221304899272910788         0.648734      0.706307      0.010801   \n",
            "3 -9221304899272910788         0.648734      0.706307      0.010801   \n",
            "4 -9221304899272910788         0.648734      0.706307      0.010801   \n",
            "\n",
            "   mean_speed  stop_ratio   density        lat        lng  \n",
            "0    0.302128    0.172785  0.077669  51.082958  71.422355  \n",
            "1    0.302128    0.172785  0.077669  51.083456  71.422540  \n",
            "2    0.302128    0.172785  0.077669  51.087376  71.419481  \n",
            "3    0.302128    0.172785  0.077669  51.094377  71.426454  \n",
            "4    0.302128    0.172785  0.077669  51.087719  71.424072  \n"
          ]
        }
      ]
    },
    {
      "cell_type": "markdown",
      "source": [
        "# **Строит визуализацию маршрутов (TSP) для магистралей на карте с координатами, чтобы показать порядок посещения точек и основные коридоры.**\n",
        "\n",
        "Пошагово:\n",
        "\n",
        "Берёт датафрейм df_merged с latitude и longitude.\n",
        "\n",
        "Если точек ≤ 8, перебирает все перестановки (TSP), чтобы найти оптимальный порядок маршрута.\n",
        "\n",
        "Если точек больше, просто визуализирует маршруты без оптимизации.\n",
        "\n",
        "Строит карту в Folium, соединяя точки синими линиями.\n",
        "\n",
        "Сохраняет результат в HTML (main_straight_corridors.html) для интерактивного просмотра.\n",
        "\n",
        "Идея:\n",
        "Показать основные магистрали и порядок маршрутов, чтобы можно было планировать карпулинг или распределять водителей."
      ],
      "metadata": {
        "id": "C8Zz5_t2bM9M"
      }
    },
    {
      "cell_type": "code",
      "source": [
        "import pandas as pd\n",
        "import folium\n",
        "from itertools import permutations\n",
        "import numpy as np\n",
        "\n",
        "# df_merged уже содержит latitude и longitude\n",
        "# df_merged = pd.merge(cluster_df, geo_df, on='randomized_id', how='left') # если ещё не сделали\n",
        "\n",
        "coords = df_merged[['lat', 'lng']].values\n",
        "\n",
        "# --- Простейший перебор TSP (для маленького числа точек) ---\n",
        "def total_distance(order, coords):\n",
        "    dist = 0\n",
        "    for i in range(len(order)-1):\n",
        "        dist += np.sqrt((coords[order[i]][0]-coords[order[i+1]][0])**2 +\n",
        "                        (coords[order[i]][1]-coords[order[i+1]][1])**2)\n",
        "    return dist\n",
        "\n",
        "if len(coords) <= 8:  # перебор всех перестановок, только для демонстрации\n",
        "    best_order = min(permutations(range(len(coords))), key=lambda x: total_distance(x, coords))\n",
        "    coords = coords[list(best_order)]\n",
        "else:\n",
        "    print(\"Слишком много точек для полного перебора TSP, используем просто визуализацию маршрутов\")\n",
        "\n",
        "# --- Визуализация на карте ---\n",
        "m = folium.Map(location=[51.1694, 71.4491], zoom_start=12)\n",
        "\n",
        "for i in range(len(coords)-1):\n",
        "    folium.PolyLine([coords[i], coords[i+1]], color='blue', weight=3).add_to(m)\n",
        "\n",
        "m.save(\"main_straight_corridors.html\")\n",
        "print(\"Карта магистралей сохранена как main_straight_corridors.html\")\n"
      ],
      "metadata": {
        "colab": {
          "base_uri": "https://localhost:8080/"
        },
        "id": "ELwMLrUuC6jX",
        "outputId": "80a30465-5fb4-4217-e7fc-cf6a87a37f7c"
      },
      "execution_count": 25,
      "outputs": [
        {
          "output_type": "stream",
          "name": "stdout",
          "text": [
            "Слишком много точек для полного перебора TSP, используем просто визуализацию маршрутов\n",
            "Карта магистралей сохранена как main_straight_corridors.html\n"
          ]
        }
      ]
    },
    {
      "cell_type": "code",
      "source": [
        "import pandas as pd\n",
        "import folium\n",
        "\n",
        "# df_merged уже содержит все колонки: lat, lng, route_length_km, straightness, density\n",
        "# Если нет corridor_score, создаём его\n",
        "df_merged['corridor_score'] = df_merged['route_length_km'] * df_merged['straightness'] * df_merged['density']\n",
        "\n",
        "# Берём топ-10 маршрутов\n",
        "top_routes = df_merged.sort_values('corridor_score', ascending=False).head(100)\n",
        "\n",
        "# Создаём карту\n",
        "m = folium.Map(location=[51.1694, 71.4491], zoom_start=12)\n",
        "\n",
        "# Добавляем маршруты с цветом по плотности\n",
        "for i, row in top_routes.iterrows():\n",
        "    # Пропорциональный цвет (чем выше density, тем ярче синий)\n",
        "    color_intensity = min(255, int(row['density'] * 10))\n",
        "    color = f'#{color_intensity:02x}00ff'\n",
        "    folium.PolyLine(\n",
        "        locations=[[row['lat'], row['lng']], [row['lat'], row['lng']]],  # если start+end есть, можно заменить\n",
        "        color=color,\n",
        "        weight=4,\n",
        "        tooltip=f\"ID: {row['randomized_id']}, Density: {row['density']}\"\n",
        "    ).add_to(m)\n",
        "\n",
        "# Сохраняем карту\n",
        "m.save(\"main_straight_corridors_colored.html\")\n",
        "print(\"Карта топ-10 магистралей с цветом по плотности готова!\")\n"
      ],
      "metadata": {
        "colab": {
          "base_uri": "https://localhost:8080/"
        },
        "id": "F8X4ZaZwGBXG",
        "outputId": "9f5e7560-d37f-4ed2-b4ea-1fd85a2ccacf"
      },
      "execution_count": 27,
      "outputs": [
        {
          "output_type": "stream",
          "name": "stdout",
          "text": [
            "Карта топ-10 магистралей с цветом по плотности готова!\n"
          ]
        }
      ]
    }
  ]
}